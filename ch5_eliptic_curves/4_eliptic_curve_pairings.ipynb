{
 "cells": [
  {
   "cell_type": "code",
   "execution_count": 1,
   "id": "4e6ed181-e98c-4374-923f-51f3bba4b0e2",
   "metadata": {},
   "outputs": [
    {
     "data": {
      "text/plain": [
       "27"
      ]
     },
     "execution_count": 1,
     "metadata": {},
     "output_type": "execute_result"
    }
   ],
   "source": [
    "# code snippet from example 90\n",
    "F5= GF(5)\n",
    "F5t.<t> = F5[]\n",
    "P_MOD_2 = F5t(t^2+2)\n",
    "P_MOD_2.is_irreducible()\n",
    "\n",
    "F5_2.<t> = GF(5^2, name='t', modulus=P_MOD_2)\n",
    "E1F5_2 = EllipticCurve(F5_2,[1,1])\n",
    "E1F5_2.order()"
   ]
  },
  {
   "cell_type": "markdown",
   "id": "fbe353b0-efb2-4410-9421-cd54d6683aea",
   "metadata": {},
   "source": [
    "## Exercise 76. \n",
    "\n",
    "Consider the Short Weierstrass elliptic curve $E(F_5^2)$ from example 90, compute the expression $(4t + 3, 2t + 1) \\oplus (3t + 3, 2)$ using pen and paper and double-check the computation usingsage. Then solve the equation $x \\oplus (3t+3, 3) =(3,4)$ for some $x \\in E(F_5^2)$. After that compute the scalar multiplication [5](2t + 1, 4t + 4) using the double-and-add algorithm from exercise 38.\n",
    "\n",
    "**solution:**\n",
    "\n",
    "### a)\n",
    "$(4t + 3, 2t + 1) \\oplus (3t + 3, 2) $ \n"
   ]
  },
  {
   "cell_type": "code",
   "execution_count": 2,
   "id": "a2745e12-7be0-41f5-af3d-bcabe79eaf7b",
   "metadata": {},
   "outputs": [
    {
     "name": "stdout",
     "output_type": "stream",
     "text": [
      "(4t + 3, 2t + 1) \\oplus (3t + 3, 2) = (0 : 1 : 1)\n"
     ]
    },
    {
     "name": "stderr",
     "output_type": "stream",
     "text": [
      "<>:3: SyntaxWarning: invalid escape sequence '\\o'\n",
      "<>:3: SyntaxWarning: invalid escape sequence '\\o'\n",
      "/tmp/ipykernel_264733/1676077228.py:3: SyntaxWarning: invalid escape sequence '\\o'\n",
      "  print(f\"(4t + 3, 2t + 1) \\oplus (3t + 3, 2) = {sol1}\")\n"
     ]
    }
   ],
   "source": [
    "sol1 = E1F5_2(4 * t + 3, 2 * t + 1) + E1F5_2(3 * t + 3, 2)\n",
    "\n",
    "print(f\"(4t + 3, 2t + 1) \\oplus (3t + 3, 2) = {sol1}\")\n",
    "\n"
   ]
  },
  {
   "cell_type": "markdown",
   "id": "ba278b06-95da-4b7a-9654-ba9504dfd33e",
   "metadata": {},
   "source": [
    "### b)\n",
    "$x \\oplus (3t+3, 3) =(3,4) \\rightarrow x = (3, 4) \\oplus (3t+3, 3)^{-1}$"
   ]
  },
  {
   "cell_type": "code",
   "execution_count": 3,
   "id": "c87dce46-8b11-4c51-aeef-63ab0f395b2f",
   "metadata": {},
   "outputs": [],
   "source": [
    "\n",
    "\n",
    "### c)\n",
    "point1 = E1F5_2(2*t + 1, 4*t + 4)\n",
    "double = point1 + point1\n",
    "cuatro = double + double\n",
    "\n",
    "assert cuatro + point1 == 5 * point1"
   ]
  },
  {
   "cell_type": "markdown",
   "id": "b214138f-b465-481e-9740-a6996351c34c",
   "metadata": {},
   "source": [
    "\n",
    "## Exercise 77. \n",
    "\n",
    "Consider the Tiny-jubjub curve from example 71. Show that the polynomial $t^4 + 2 \\in F_{13}[t]$ is irreducible. Then write a sage program to implement the finite field extension $F_{13}^4$ , implement the curve extension TJJ_13($F_{13}^4$) and compute the number of curve points.\n"
   ]
  },
  {
   "cell_type": "code",
   "execution_count": 4,
   "id": "eb01587d-6c1e-4cb0-a8ac-2d9f3e8d8a62",
   "metadata": {},
   "outputs": [
    {
     "data": {
      "text/plain": [
       "28800"
      ]
     },
     "execution_count": 4,
     "metadata": {},
     "output_type": "execute_result"
    }
   ],
   "source": [
    "F13= GF(13)\n",
    "F13t.<t> = F13[]\n",
    "P_MOD_4 = F13t(t^4 + 2)\n",
    "P_MOD_4.is_irreducible()\n",
    "\n",
    "F13_4.<t> = GF(13^4, name='t', modulus=P_MOD_4)\n",
    "TJJ_F5_4 = EllipticCurve(F13_4, [8,8])\n",
    "TJJ_F5_4.order()"
   ]
  },
  {
   "cell_type": "markdown",
   "id": "265fcf27-be30-4d1f-9c12-005eb4dc0722",
   "metadata": {},
   "source": [
    "## Exercise 78. \n",
    "\n",
    "Consider the alt_bn128 curve and its associated base field Fp from example 73. As we know from example 89 this curve has an embedding degree of 12. Use Sage to find an irreducible polynomial P ∈ Fp[t] and write a sage program to implement the finite field extension Fp12 and to implement the curve extension alt_bn128(Fp12) and compute the number of curve points.\n"
   ]
  },
  {
   "cell_type": "code",
   "execution_count": 5,
   "id": "c169cde7-1035-4ac6-9a34-12109e6738a1",
   "metadata": {},
   "outputs": [
    {
     "name": "stdout",
     "output_type": "stream",
     "text": [
      "irreducible polynomial of degree 12: t^12 + 7*t^11 + 15*t^10 + t^9 + 21888242871839275222246405745257275088696311157297823662689037894645226208558*t^8 + 24*t^7 + 152*t^6 + 208*t^5 + 184*t^4 + 144*t^3 + 78*t^2 + 51*t + 71\n"
     ]
    }
   ],
   "source": [
    "alt_bn128_p = 21888242871839275222246405745257275088696311157297823662689037894645226208583\n",
    "F_altbn = GF(alt_bn128_p)\n",
    "F_altbn_t.<t> = PolynomialRing(F_altbn)\n",
    "\n",
    "degree = 12  # for example, change this to the degree you want\n",
    "# Find an irreducible polynomial of the specified degree over GF(p)\n",
    "irreducible_poly = F_altbn_t.irreducible_element(degree)\n",
    "assert irreducible_poly.is_irreducible()\n",
    "print(f\"irreducible polynomial of degree {degree}: {irreducible_poly}\")\n",
    "\n",
    "F_altbn_12.<t> = GF(alt_bn128_p^degree, name='t', modulus=irreducible_poly)\n",
    "altbn_128_12 = EllipticCurve(F_altbn_12, [0,3])\n",
    "altbn_128_12.order()\n",
    "\n",
    "#### Actual alt_bn_128 extension tower\n",
    "# Fp \n",
    "G1 = EllipticCurve(F_altbn, [0,3])\n",
    "r = G1.order()\n",
    "\n",
    "# Fp2\n",
    "_.<x> = PolynomialRing(F_altbn)\n",
    "Fp2.<u> = F_altbn.extension(x^2 + 1)\n",
    "\n",
    "non_residue = u + 9\n",
    "\n",
    "# Fp6\n",
    "_.<t> = Fp2[]\n",
    "Fp6.<v> = Fp2.extension(t^3 - non_residue)\n",
    "\n",
    "# # Commented as it takes too long\n",
    "# Fp12\n",
    "# _.<y> = Fp6[]\n",
    "# Fp12.<w> = Fp6.extension(y^2 - v)"
   ]
  },
  {
   "cell_type": "markdown",
   "id": "d53949c9-7639-4376-aa7b-8ba552b1423b",
   "metadata": {},
   "source": [
    "## Exercise 79. \n",
    "\n",
    "Consider the full 5-torsion group T JJ_13[5] from example 92. Write down the set of all elements from this group and identify the subset of all elements from TJJ_13(F13)[5] as well as T JJ_13(F132 )[5]. Then compute the 5-torsion group T JJ_13(F138 )[5] .\n"
   ]
  },
  {
   "cell_type": "code",
   "execution_count": 6,
   "id": "216fef5a-b4e3-4ef1-925f-8c1ba49d4905",
   "metadata": {},
   "outputs": [
    {
     "name": "stdout",
     "output_type": "stream",
     "text": [
      "F(13_1)[5]: |5| {(7 : 11 : 1), (0 : 1 : 0), (8 : 8 : 1), (7 : 2 : 1), (8 : 5 : 1)}\n",
      "********************\n",
      "F(13_2)[5]: |5| {(7 : 11 : 1), (0 : 1 : 0), (8 : 8 : 1), (7 : 2 : 1), (8 : 5 : 1)}\n",
      "********************\n",
      "F(13_4)[5]: |25| {(t^3 + 5*t^2 + 3*t + 7 : t^3 + 9*t^2 + 6*t : 1), (0 : 1 : 0), (7*t^3 + 7*t^2 + 2*t + 1 : t^3 + 2*t^2 + 4*t + 10 : 1), (3*t^3 + t^2 + t + 6 : 7*t^3 + 9*t^2 + t + 8 : 1), (6*t^3 + 6*t^2 + 11*t + 10 : 10*t^3 + 4*t^2 + 4*t + 3 : 1), (8 : 5 : 1), (9*t^3 + 2*t^2 + 3*t + 3 : 11*t^3 + 2*t^2 + 5*t + 1 : 1), (5*t^2 + 6*t + 11 : 4*t^3 + 2*t^2 + 10 : 1), (9*t^3 + 9*t^2 + 10*t + 9 : 9*t^3 + 11*t^2 + 4*t + 2 : 1), (3*t^3 + t^2 + t + 6 : 6*t^3 + 4*t^2 + 12*t + 5 : 1), (8 : 8 : 1), (3*t^3 + 4*t^2 + t + 1 : 4*t^3 + t + 10 : 1), (9*t^3 + 9*t^2 + 10*t + 9 : 4*t^3 + 2*t^2 + 9*t + 11 : 1), (10*t^3 + 9*t^2 + 12*t : 2*t^3 + 9*t^2 + 5*t + 12 : 1), (7*t^3 + 7*t^2 + 2*t + 1 : 12*t^3 + 11*t^2 + 9*t + 3 : 1), (t^3 + 5*t^2 + 3*t + 7 : 12*t^3 + 4*t^2 + 7*t : 1), (7 : 11 : 1), (5*t^2 + 6*t + 11 : 9*t^3 + 11*t^2 + 3 : 1), (9*t^3 + 2*t^2 + 3*t + 3 : 2*t^3 + 11*t^2 + 8*t + 12 : 1), (4*t^3 + 4*t^2 + 3*t + 2 : 11*t^3 + 5*t^2 + 9*t + 7 : 1), (6*t^3 + 6*t^2 + 11*t + 10 : 3*t^3 + 9*t^2 + 9*t + 10 : 1), (3*t^3 + 4*t^2 + t + 1 : 9*t^3 + 12*t + 3 : 1), (4*t^3 + 4*t^2 + 3*t + 2 : 2*t^3 + 8*t^2 + 4*t + 6 : 1), (7 : 2 : 1), (10*t^3 + 9*t^2 + 12*t : 11*t^3 + 4*t^2 + 8*t + 1 : 1)}\n",
      "********************\n",
      "F(13_8)[5]: |25| {(2*t^7 + 4*t^6 + 6*t^5 + t^4 + t^3 + 3*t^2 + 10*t + 4 : 7*t^7 + 2*t^6 + 8*t^5 + 4*t^4 + 10*t^3 + 10*t^2 + 6 : 1), (6*t^7 + 2*t^6 + 4*t^5 + 7*t^3 + 7*t^2 + 2*t + 10 : 8*t^7 + 9*t^6 + 5*t^5 + 6*t^4 + 2*t^3 + 6*t^2 + 6*t + 8 : 1), (0 : 1 : 0), (2*t^7 + 11*t^6 + 3*t^5 + 4*t^4 + 11*t^2 + 9*t + 2 : 3*t^7 + 9*t^6 + t^5 + 6*t^4 + t^3 + 12*t^2 + 6*t + 12 : 1), (3*t^7 + 6*t^6 + 9*t^5 + 8*t^4 + 8*t^3 + 11*t^2 + 2*t : 9*t^6 + 2*t^5 + 7*t^4 + 5*t^3 + 3*t^2 + 12*t : 1), (10*t^7 + 7*t^6 + 4*t^5 + 5*t^4 + 5*t^3 + 2*t^2 + 11*t + 11 : 10*t^7 + 7*t^6 + t^5 + 11*t^4 + 4*t^3 + 7*t^2 + 8*t + 5 : 1), (2*t^7 + 11*t^6 + 3*t^5 + 4*t^4 + 11*t^2 + 9*t + 2 : 10*t^7 + 4*t^6 + 12*t^5 + 7*t^4 + 12*t^3 + t^2 + 7*t + 1 : 1), (8 : 5 : 1), (6*t^7 + 2*t^6 + 4*t^5 + 7*t^3 + 7*t^2 + 2*t + 10 : 5*t^7 + 4*t^6 + 8*t^5 + 7*t^4 + 11*t^3 + 7*t^2 + 7*t + 5 : 1), (3*t^7 + 6*t^6 + 9*t^5 + 8*t^4 + 8*t^3 + 11*t^2 + 2*t : 4*t^6 + 11*t^5 + 6*t^4 + 8*t^3 + 10*t^2 + t : 1), (2*t^7 + 10*t^6 + 5*t^5 + 6*t^4 + 5*t^3 + 6*t^2 + 7*t + 1 : 9*t^7 + t^6 + 11*t^4 + 2*t^3 + 2*t^2 + 2*t + 9 : 1), (11*t^7 + 3*t^6 + 8*t^5 + 7*t^4 + 8*t^3 + 7*t^2 + 6*t : 3*t^7 + 12*t^6 + 4*t^5 + 8*t^4 + 2*t^3 + 12*t^2 + 8*t + 5 : 1), (2*t^7 + 12*t^6 + 3*t^5 + 11*t^4 + 4*t^2 + 12 : 9*t^7 + t^6 + t^5 + 9*t^4 + 11*t^3 + 9*t^2 + 3*t + 12 : 1), (8 : 8 : 1), (3*t^7 + t^6 + 3*t^5 + 11*t^4 + 6*t^3 + 4*t^2 + 2*t + 3 : 2*t^7 + 4*t^6 + 5*t^5 + 3*t^4 + 5*t^3 + 9*t^2 + 9*t + 9 : 1), (2*t^7 + 10*t^6 + 5*t^5 + 6*t^4 + 5*t^3 + 6*t^2 + 7*t + 1 : 4*t^7 + 12*t^6 + 2*t^4 + 11*t^3 + 11*t^2 + 11*t + 4 : 1), (3*t^7 + t^6 + 3*t^5 + 11*t^4 + 6*t^3 + 4*t^2 + 2*t + 3 : 11*t^7 + 9*t^6 + 8*t^5 + 10*t^4 + 8*t^3 + 4*t^2 + 4*t + 4 : 1), (7 : 11 : 1), (11*t^7 + 9*t^6 + 7*t^5 + 12*t^4 + 12*t^3 + 10*t^2 + 3*t + 7 : 4*t^7 + 7*t^5 + 8*t^4 + 9*t^3 + t^2 + 9*t + 6 : 1), (10*t^7 + 7*t^6 + 4*t^5 + 5*t^4 + 5*t^3 + 2*t^2 + 11*t + 11 : 3*t^7 + 6*t^6 + 12*t^5 + 2*t^4 + 9*t^3 + 6*t^2 + 5*t + 8 : 1), (11*t^7 + 3*t^6 + 8*t^5 + 7*t^4 + 8*t^3 + 7*t^2 + 6*t : 10*t^7 + t^6 + 9*t^5 + 5*t^4 + 11*t^3 + t^2 + 5*t + 8 : 1), (11*t^7 + 9*t^6 + 7*t^5 + 12*t^4 + 12*t^3 + 10*t^2 + 3*t + 7 : 9*t^7 + 6*t^5 + 5*t^4 + 4*t^3 + 12*t^2 + 4*t + 7 : 1), (2*t^7 + 12*t^6 + 3*t^5 + 11*t^4 + 4*t^2 + 12 : 4*t^7 + 12*t^6 + 12*t^5 + 4*t^4 + 2*t^3 + 4*t^2 + 10*t + 1 : 1), (2*t^7 + 4*t^6 + 6*t^5 + t^4 + t^3 + 3*t^2 + 10*t + 4 : 6*t^7 + 11*t^6 + 5*t^5 + 9*t^4 + 3*t^3 + 3*t^2 + 7 : 1), (7 : 2 : 1)}\n",
      "********************\n"
     ]
    }
   ],
   "source": [
    "def r_torsion_group_TJJ(p, k_r, r):\n",
    "    F_p = GF(p)\n",
    "    F_p_t.<t> = F_p[]\n",
    "    F_p_kr_poly = F_p_t.irreducible_element(k_r)\n",
    "    assert F_p_kr_poly.is_irreducible()\n",
    "\n",
    "    F_tjj_kr.<t> = GF(p^k_r, name='t', modulus=F_p_kr_poly)\n",
    "    TJJ_kr = EllipticCurve(F_tjj_kr, [8,8])\n",
    "    assert TJJ_kr.order() % r == 0\n",
    "\n",
    "    INF = TJJ_kr(0)\n",
    "    L_TJJ_r = INF.division_points(r)\n",
    "    \n",
    "    result = Set(L_TJJ_r)\n",
    "    print(f\"F({p}_{k_r})[{r}]: |{len(result)}| {result}\")\n",
    "    print('*' * 20)\n",
    "    return result\n",
    "\n",
    "torsion_deg1 = r_torsion_group_TJJ(13, 1, 5)\n",
    "torsion_deg2 = r_torsion_group_TJJ(13, 2, 5)\n",
    "torsion_deg4 = r_torsion_group_TJJ(13, 4, 5)\n",
    "torsion_deg8 = r_torsion_group_TJJ(13, 8, 5)\n"
   ]
  },
  {
   "cell_type": "markdown",
   "id": "502855b9-d0ac-4d26-858a-b3df931276a9",
   "metadata": {},
   "source": [
    "## Exercise 80. \n",
    "\n",
    "Consider the curve secp256k1 from example 72 and its full r-torsion group as introduced in example 93. Write down a single element from the curves full torsion group that is not the point at infinity.\n"
   ]
  },
  {
   "cell_type": "code",
   "execution_count": 7,
   "id": "b1882654-f967-4acd-84e5-9b3dd9cffab8",
   "metadata": {},
   "outputs": [],
   "source": [
    "F_secp = GF(115792089237316195423570985008687907853269984665640564039457584007908834671663)\n",
    "secp256k1 = EllipticCurve(F_secp, [0, 7])\n",
    "r = secp256k1.cardinality().factor()[-1][0]\n",
    "INF = secp256k1(0)\n",
    "\n",
    "# from chatgpt\n",
    "Gx = 55066263022277343669578718895168534326250603453777594175500187360389116729240\n",
    "Gy = 32670510020758816978083085130507043184471273380659243275938904335757337482424\n",
    "P = secp256k1(Gx, Gy)\n",
    "\n",
    "assert r * P == INF"
   ]
  },
  {
   "cell_type": "markdown",
   "id": "bc2a2a47-916f-4d30-a1b5-bf4ae087c211",
   "metadata": {},
   "source": [
    "## Exercise 81.\n",
    "\n",
    "Consider the curve alt_bn128 from example 73 and its curve extension from exercise 78. Write a Sage program that computes a generator from the curves full torsion group."
   ]
  },
  {
   "cell_type": "code",
   "execution_count": 8,
   "id": "9a25bfe8-0cdb-4d42-86ea-04bde61af257",
   "metadata": {},
   "outputs": [],
   "source": [
    "altbn_128 = EllipticCurve(F_altbn, [0,3])\n",
    "r = altbn_128.order()\n",
    "assert r.is_prime()\n",
    "\n",
    "# generator point take from chatgpt\n",
    "G1 = altbn_128(1, 2)\n",
    "INF = altbn_128(0)\n",
    "assert G1 * r == INF"
   ]
  },
  {
   "cell_type": "markdown",
   "id": "983b4726-9b60-4c6b-abc7-847ce9c561ca",
   "metadata": {},
   "source": [
    "## Exercise 82.\n",
    "\n",
    "Consider the small prime factor 2 of the Tiny-jubjub curve. Compute the full 2-torsion group of $TJJ_{13}$ and then compute the groups $\\mathbb{G}_1[2]$ and $\\mathbb{G}_2[2]$."
   ]
  },
  {
   "cell_type": "code",
   "execution_count": 9,
   "id": "fb02ba7c-e0bd-4dda-b579-2cda477dd2a8",
   "metadata": {},
   "outputs": [
    {
     "name": "stdout",
     "output_type": "stream",
     "text": [
      "F(13_1)[2]: |2| {(4 : 0 : 1), (0 : 1 : 0)}\n",
      "********************\n",
      "G1: [(4 : 0 : 1), (0 : 1 : 0)]\n",
      "G2: [(4 : 0 : 1), (0 : 1 : 0)]\n"
     ]
    }
   ],
   "source": [
    "TJJ_13 = EllipticCurve(F13, [8,8])\n",
    "TJJ_tor2 = r_torsion_group_TJJ(13, 1, 2)\n",
    "\n",
    "def frobenious_end(P):\n",
    "    if P == TJJ_13(0):\n",
    "        return P\n",
    "    else:\n",
    "        x,y = P.xy()\n",
    "        return TJJ_13(x^13, y^13)\n",
    "\n",
    "G1_2 = [p for p in TJJ_tor2 if frobenious_end(p) == p] \n",
    "print(f\"G1: {G1_2}\")\n",
    "G2_2 = [p for p in TJJ_tor2 if frobenious_end(p) == 13 * p]\n",
    "print(f\"G2: {G2_2}\")"
   ]
  },
  {
   "cell_type": "markdown",
   "id": "065c3866-e914-44ab-b8eb-03fedcdb9c3f",
   "metadata": {},
   "source": [
    "## Exercise 83.\n",
    "\n",
    "Consider the curve alt_bn128 from example 73 and its curve extension from exercise 78. Write a Sage program that computes a generator for each of the torsion group G1[p] and G2[p].\n",
    "\n",
    "**Solution:**\n",
    "\n",
    "From exercise 81, we got the generator of G1, now we need to find out the generator in G2"
   ]
  },
  {
   "cell_type": "code",
   "execution_count": 10,
   "id": "9e630005-c017-44ac-b91f-a546793a5f6b",
   "metadata": {},
   "outputs": [],
   "source": [
    "### Info take from this link: https://hackmd.io/@vivi432/bn128-in-c\n",
    "\n",
    "F2 = GF(alt_bn128_p^2, \"i\" ,modulus=x^2 + 1)\n",
    "TwistB = 3*F2(\"9+i\")^(-1)\n",
    "twisted_bn = EllipticCurve(F2,[0, TwistB])\n",
    "\n",
    "G2x = F2(\"11559732032986387107991004021392285783925812861821192530917403151452391805634*i + 10857046999023057135944570762232829481370756359578518086990519993285655852781\")\n",
    "G2y = F2(\"4082367875863433681332203403145435568316851327593401208105741076214120093531*i + 8495653923123431417604973247489272438418190587263600148770280649306958101930\")\n",
    "G2 = twisted_bn(G2x, G2y)\n",
    "assert G2 * twisted_bn.order() == twisted_bn(0)"
   ]
  },
  {
   "cell_type": "markdown",
   "id": "039589f6-f8ae-4bf7-ab2e-b07e063fa5eb",
   "metadata": {},
   "source": [
    "## Exercise 84.\n",
    "\n",
    "Consider the curve alt_bn128 from example 73 and the generators g1 and g2 of G1[p] and G2[p] from exercise 83. Write a Sage program that computes the Weil pairing e(g1,g2)."
   ]
  },
  {
   "cell_type": "code",
   "execution_count": null,
   "id": "f6175397-09d2-4586-b87d-b07502c835bb",
   "metadata": {},
   "outputs": [],
   "source": []
  }
 ],
 "metadata": {
  "kernelspec": {
   "display_name": "SageMath 10.4",
   "language": "sage",
   "name": "sagemath"
  },
  "language_info": {
   "codemirror_mode": {
    "name": "ipython",
    "version": 3
   },
   "file_extension": ".py",
   "mimetype": "text/x-python",
   "name": "python",
   "nbconvert_exporter": "python",
   "pygments_lexer": "ipython3",
   "version": "3.12.7"
  }
 },
 "nbformat": 4,
 "nbformat_minor": 5
}
